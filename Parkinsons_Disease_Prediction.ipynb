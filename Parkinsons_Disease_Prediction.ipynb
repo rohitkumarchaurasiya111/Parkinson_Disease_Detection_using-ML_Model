{
 "cells": [
  {
   "cell_type": "markdown",
   "id": "e5dceb0f-8162-4d0f-81a2-ae183e476def",
   "metadata": {},
   "source": [
    "<h1>Parkinson's Disease Prediction using ML Model</h1>"
   ]
  },
  {
   "cell_type": "markdown",
   "id": "4266d6ea-1173-41d5-8ba6-bbac02e91c9c",
   "metadata": {},
   "source": [
    "<h3> Importing all the required packages </h3>\n",
    "<p>\n",
    "Pandas – This library helps to load the data frame in a 2D array format and has multiple functions to perform analysis tasks in one go.<br>\n",
    "Numpy – Numpy arrays are very fast and can perform large computations in a very short time.<br>\n",
    "Matplotlib/Seaborn – This library is used to draw visualizations.<br>\n",
    "Sklearn – This module contains multiple libraries having pre-implemented functions to perform tasks from data preprocessing to model development and evaluation.<br>\n",
    "XGBoost – This contains the eXtreme Gradient Boosting machine learning algorithm which is one of the algorithms which helps us to achieve high accuracy on predictions.<br>\n",
    "Imblearn – This module contains a function that can be used for handling problems related to data imbalance.\n",
    "</p>"
   ]
  },
  {
   "cell_type": "code",
   "execution_count": 3,
   "id": "73e85cbb-c0af-4246-a854-4aa23afc0c6b",
   "metadata": {},
   "outputs": [],
   "source": [
    "import numpy as np\n",
    "import pandas as pd\n",
    "import matplotlib.pyplot as plt\n",
    "import seaborn as sb\n",
    "\n",
    "from imblearn.over_sampling import RandomOverSampler\n",
    "from sklearn.model_selection import train_test_split\n",
    "from sklearn.preprocessing import LabelEncoder, MinMaxScaler\n",
    "from sklearn.feature_selection import SelectKBest, chi2\n",
    "from tqdm.notebook import tqdm\n",
    "from sklearn import metrics\n",
    "from sklearn.svm import SVC\n",
    "from xgboost import XGBClassifier\n",
    "from sklearn.linear_model import LogisticRegression\n",
    "from sklearn.ensemble import RandomForestClassifier\n",
    "from sklearn.metrics import accuracy_score, classification_report\n",
    "\n",
    "\n",
    "# #Suppresses warning messages to keep output clean (useful in notebooks).\n",
    "import warnings\n",
    "warnings.filterwarnings('ignore')"
   ]
  },
  {
   "cell_type": "markdown",
   "id": "92f0e3a8-2bee-4e30-a50c-8e86c81e14cc",
   "metadata": {},
   "source": [
    "<h3>Loading the dataset into the panda’s data frame</h3>\n",
    "<p>The dataset we are going to use here includes 755 columns and three observations for each patient. The value’s in these columns are part of some other diagnostics which are generally used to capture the difference between a healthy and affected person.</p>"
   ]
  },
  {
   "cell_type": "code",
   "execution_count": 5,
   "id": "367b471d-bc12-4046-9c5e-7414a777cb85",
   "metadata": {},
   "outputs": [],
   "source": [
    "df = pd.read_csv('parkinson_disease.csv')"
   ]
  },
  {
   "cell_type": "markdown",
   "id": "6bc25a99-9334-4101-a4c0-ba957e8b1b7c",
   "metadata": {},
   "source": [
    "<p> checking the size of the dataset</p>"
   ]
  },
  {
   "cell_type": "code",
   "execution_count": 7,
   "id": "2f490239-bd97-4b70-906a-8143f2ea41bf",
   "metadata": {},
   "outputs": [
    {
     "data": {
      "text/plain": [
       "(756, 755)"
      ]
     },
     "execution_count": 7,
     "metadata": {},
     "output_type": "execute_result"
    }
   ],
   "source": [
    "df.shape"
   ]
  },
  {
   "cell_type": "markdown",
   "id": "a099b6f4-cfbf-4f3d-bf82-d76a6e0cf167",
   "metadata": {},
   "source": [
    "<p>The dataset is very high dimensional as the feature space contains 755 columns.  check which column of the dataset contains which type of data.</p>"
   ]
  },
  {
   "cell_type": "code",
   "execution_count": 9,
   "id": "2f84fd92-ca5c-4aca-8fe1-dafed85bf35e",
   "metadata": {},
   "outputs": [
    {
     "name": "stdout",
     "output_type": "stream",
     "text": [
      "<class 'pandas.core.frame.DataFrame'>\n",
      "RangeIndex: 756 entries, 0 to 755\n",
      "Columns: 755 entries, id to class\n",
      "dtypes: float64(749), int64(6)\n",
      "memory usage: 4.4 MB\n"
     ]
    }
   ],
   "source": [
    "df.info()"
   ]
  },
  {
   "cell_type": "markdown",
   "id": "3d4d420b-b064-45f9-bb4a-2522bd16c889",
   "metadata": {},
   "source": [
    "<p>From above, We are sure that There are no NULL values</p>"
   ]
  },
  {
   "cell_type": "code",
   "execution_count": 11,
   "id": "9a27be53-6722-4dbc-93b3-87d80d0fe75d",
   "metadata": {},
   "outputs": [
    {
     "data": {
      "text/html": [
       "<div>\n",
       "<style scoped>\n",
       "    .dataframe tbody tr th:only-of-type {\n",
       "        vertical-align: middle;\n",
       "    }\n",
       "\n",
       "    .dataframe tbody tr th {\n",
       "        vertical-align: top;\n",
       "    }\n",
       "\n",
       "    .dataframe thead th {\n",
       "        text-align: right;\n",
       "    }\n",
       "</style>\n",
       "<table border=\"1\" class=\"dataframe\">\n",
       "  <thead>\n",
       "    <tr style=\"text-align: right;\">\n",
       "      <th></th>\n",
       "      <th>id</th>\n",
       "      <th>gender</th>\n",
       "      <th>PPE</th>\n",
       "      <th>DFA</th>\n",
       "      <th>RPDE</th>\n",
       "      <th>numPulses</th>\n",
       "      <th>numPeriodsPulses</th>\n",
       "      <th>meanPeriodPulses</th>\n",
       "      <th>stdDevPeriodPulses</th>\n",
       "      <th>locPctJitter</th>\n",
       "      <th>...</th>\n",
       "      <th>tqwt_kurtosisValue_dec_28</th>\n",
       "      <th>tqwt_kurtosisValue_dec_29</th>\n",
       "      <th>tqwt_kurtosisValue_dec_30</th>\n",
       "      <th>tqwt_kurtosisValue_dec_31</th>\n",
       "      <th>tqwt_kurtosisValue_dec_32</th>\n",
       "      <th>tqwt_kurtosisValue_dec_33</th>\n",
       "      <th>tqwt_kurtosisValue_dec_34</th>\n",
       "      <th>tqwt_kurtosisValue_dec_35</th>\n",
       "      <th>tqwt_kurtosisValue_dec_36</th>\n",
       "      <th>class</th>\n",
       "    </tr>\n",
       "  </thead>\n",
       "  <tbody>\n",
       "    <tr>\n",
       "      <th>count</th>\n",
       "      <td>756.000000</td>\n",
       "      <td>756.000000</td>\n",
       "      <td>756.000000</td>\n",
       "      <td>756.000000</td>\n",
       "      <td>756.000000</td>\n",
       "      <td>756.000000</td>\n",
       "      <td>756.000000</td>\n",
       "      <td>756.000000</td>\n",
       "      <td>756.000000</td>\n",
       "      <td>756.000000</td>\n",
       "      <td>...</td>\n",
       "      <td>756.000000</td>\n",
       "      <td>756.000000</td>\n",
       "      <td>756.000000</td>\n",
       "      <td>756.000000</td>\n",
       "      <td>756.000000</td>\n",
       "      <td>756.000000</td>\n",
       "      <td>756.000000</td>\n",
       "      <td>756.000000</td>\n",
       "      <td>756.000000</td>\n",
       "      <td>756.000000</td>\n",
       "    </tr>\n",
       "    <tr>\n",
       "      <th>mean</th>\n",
       "      <td>125.500000</td>\n",
       "      <td>0.515873</td>\n",
       "      <td>0.746284</td>\n",
       "      <td>0.700414</td>\n",
       "      <td>0.489058</td>\n",
       "      <td>323.972222</td>\n",
       "      <td>322.678571</td>\n",
       "      <td>0.006360</td>\n",
       "      <td>0.000383</td>\n",
       "      <td>0.002324</td>\n",
       "      <td>...</td>\n",
       "      <td>26.237251</td>\n",
       "      <td>22.840337</td>\n",
       "      <td>18.587888</td>\n",
       "      <td>13.872018</td>\n",
       "      <td>12.218953</td>\n",
       "      <td>12.375335</td>\n",
       "      <td>14.799230</td>\n",
       "      <td>14.751559</td>\n",
       "      <td>31.481110</td>\n",
       "      <td>0.746032</td>\n",
       "    </tr>\n",
       "    <tr>\n",
       "      <th>std</th>\n",
       "      <td>72.793721</td>\n",
       "      <td>0.500079</td>\n",
       "      <td>0.169294</td>\n",
       "      <td>0.069718</td>\n",
       "      <td>0.137442</td>\n",
       "      <td>99.219059</td>\n",
       "      <td>99.402499</td>\n",
       "      <td>0.001826</td>\n",
       "      <td>0.000728</td>\n",
       "      <td>0.002628</td>\n",
       "      <td>...</td>\n",
       "      <td>42.220693</td>\n",
       "      <td>32.626464</td>\n",
       "      <td>25.537464</td>\n",
       "      <td>20.046029</td>\n",
       "      <td>17.783642</td>\n",
       "      <td>16.341665</td>\n",
       "      <td>15.722502</td>\n",
       "      <td>14.432979</td>\n",
       "      <td>34.230991</td>\n",
       "      <td>0.435568</td>\n",
       "    </tr>\n",
       "    <tr>\n",
       "      <th>min</th>\n",
       "      <td>0.000000</td>\n",
       "      <td>0.000000</td>\n",
       "      <td>0.041551</td>\n",
       "      <td>0.543500</td>\n",
       "      <td>0.154300</td>\n",
       "      <td>2.000000</td>\n",
       "      <td>1.000000</td>\n",
       "      <td>0.002107</td>\n",
       "      <td>0.000011</td>\n",
       "      <td>0.000210</td>\n",
       "      <td>...</td>\n",
       "      <td>1.509800</td>\n",
       "      <td>1.531700</td>\n",
       "      <td>1.582900</td>\n",
       "      <td>1.747200</td>\n",
       "      <td>1.789500</td>\n",
       "      <td>1.628700</td>\n",
       "      <td>1.861700</td>\n",
       "      <td>1.955900</td>\n",
       "      <td>2.364000</td>\n",
       "      <td>0.000000</td>\n",
       "    </tr>\n",
       "    <tr>\n",
       "      <th>25%</th>\n",
       "      <td>62.750000</td>\n",
       "      <td>0.000000</td>\n",
       "      <td>0.762833</td>\n",
       "      <td>0.647053</td>\n",
       "      <td>0.386537</td>\n",
       "      <td>251.000000</td>\n",
       "      <td>250.000000</td>\n",
       "      <td>0.005003</td>\n",
       "      <td>0.000049</td>\n",
       "      <td>0.000970</td>\n",
       "      <td>...</td>\n",
       "      <td>2.408675</td>\n",
       "      <td>3.452800</td>\n",
       "      <td>3.354825</td>\n",
       "      <td>3.077450</td>\n",
       "      <td>2.937025</td>\n",
       "      <td>3.114375</td>\n",
       "      <td>3.665925</td>\n",
       "      <td>3.741275</td>\n",
       "      <td>3.948750</td>\n",
       "      <td>0.000000</td>\n",
       "    </tr>\n",
       "    <tr>\n",
       "      <th>50%</th>\n",
       "      <td>125.500000</td>\n",
       "      <td>1.000000</td>\n",
       "      <td>0.809655</td>\n",
       "      <td>0.700525</td>\n",
       "      <td>0.484355</td>\n",
       "      <td>317.000000</td>\n",
       "      <td>316.000000</td>\n",
       "      <td>0.006048</td>\n",
       "      <td>0.000077</td>\n",
       "      <td>0.001495</td>\n",
       "      <td>...</td>\n",
       "      <td>5.586300</td>\n",
       "      <td>7.062750</td>\n",
       "      <td>6.077400</td>\n",
       "      <td>4.770850</td>\n",
       "      <td>4.300450</td>\n",
       "      <td>4.741450</td>\n",
       "      <td>6.725700</td>\n",
       "      <td>7.334250</td>\n",
       "      <td>10.637250</td>\n",
       "      <td>1.000000</td>\n",
       "    </tr>\n",
       "    <tr>\n",
       "      <th>75%</th>\n",
       "      <td>188.250000</td>\n",
       "      <td>1.000000</td>\n",
       "      <td>0.834315</td>\n",
       "      <td>0.754985</td>\n",
       "      <td>0.586515</td>\n",
       "      <td>384.250000</td>\n",
       "      <td>383.250000</td>\n",
       "      <td>0.007528</td>\n",
       "      <td>0.000171</td>\n",
       "      <td>0.002520</td>\n",
       "      <td>...</td>\n",
       "      <td>28.958075</td>\n",
       "      <td>29.830850</td>\n",
       "      <td>21.944050</td>\n",
       "      <td>13.188000</td>\n",
       "      <td>10.876150</td>\n",
       "      <td>12.201325</td>\n",
       "      <td>21.922050</td>\n",
       "      <td>22.495175</td>\n",
       "      <td>61.125325</td>\n",
       "      <td>1.000000</td>\n",
       "    </tr>\n",
       "    <tr>\n",
       "      <th>max</th>\n",
       "      <td>251.000000</td>\n",
       "      <td>1.000000</td>\n",
       "      <td>0.907660</td>\n",
       "      <td>0.852640</td>\n",
       "      <td>0.871230</td>\n",
       "      <td>907.000000</td>\n",
       "      <td>905.000000</td>\n",
       "      <td>0.012966</td>\n",
       "      <td>0.003483</td>\n",
       "      <td>0.027750</td>\n",
       "      <td>...</td>\n",
       "      <td>239.788800</td>\n",
       "      <td>203.311300</td>\n",
       "      <td>121.542900</td>\n",
       "      <td>102.207000</td>\n",
       "      <td>85.571700</td>\n",
       "      <td>73.532200</td>\n",
       "      <td>62.007300</td>\n",
       "      <td>57.544300</td>\n",
       "      <td>156.423700</td>\n",
       "      <td>1.000000</td>\n",
       "    </tr>\n",
       "  </tbody>\n",
       "</table>\n",
       "<p>8 rows × 755 columns</p>\n",
       "</div>"
      ],
      "text/plain": [
       "               id      gender         PPE         DFA        RPDE   numPulses  \\\n",
       "count  756.000000  756.000000  756.000000  756.000000  756.000000  756.000000   \n",
       "mean   125.500000    0.515873    0.746284    0.700414    0.489058  323.972222   \n",
       "std     72.793721    0.500079    0.169294    0.069718    0.137442   99.219059   \n",
       "min      0.000000    0.000000    0.041551    0.543500    0.154300    2.000000   \n",
       "25%     62.750000    0.000000    0.762833    0.647053    0.386537  251.000000   \n",
       "50%    125.500000    1.000000    0.809655    0.700525    0.484355  317.000000   \n",
       "75%    188.250000    1.000000    0.834315    0.754985    0.586515  384.250000   \n",
       "max    251.000000    1.000000    0.907660    0.852640    0.871230  907.000000   \n",
       "\n",
       "       numPeriodsPulses  meanPeriodPulses  stdDevPeriodPulses  locPctJitter  \\\n",
       "count        756.000000        756.000000          756.000000    756.000000   \n",
       "mean         322.678571          0.006360            0.000383      0.002324   \n",
       "std           99.402499          0.001826            0.000728      0.002628   \n",
       "min            1.000000          0.002107            0.000011      0.000210   \n",
       "25%          250.000000          0.005003            0.000049      0.000970   \n",
       "50%          316.000000          0.006048            0.000077      0.001495   \n",
       "75%          383.250000          0.007528            0.000171      0.002520   \n",
       "max          905.000000          0.012966            0.003483      0.027750   \n",
       "\n",
       "       ...  tqwt_kurtosisValue_dec_28  tqwt_kurtosisValue_dec_29  \\\n",
       "count  ...                 756.000000                 756.000000   \n",
       "mean   ...                  26.237251                  22.840337   \n",
       "std    ...                  42.220693                  32.626464   \n",
       "min    ...                   1.509800                   1.531700   \n",
       "25%    ...                   2.408675                   3.452800   \n",
       "50%    ...                   5.586300                   7.062750   \n",
       "75%    ...                  28.958075                  29.830850   \n",
       "max    ...                 239.788800                 203.311300   \n",
       "\n",
       "       tqwt_kurtosisValue_dec_30  tqwt_kurtosisValue_dec_31  \\\n",
       "count                 756.000000                 756.000000   \n",
       "mean                   18.587888                  13.872018   \n",
       "std                    25.537464                  20.046029   \n",
       "min                     1.582900                   1.747200   \n",
       "25%                     3.354825                   3.077450   \n",
       "50%                     6.077400                   4.770850   \n",
       "75%                    21.944050                  13.188000   \n",
       "max                   121.542900                 102.207000   \n",
       "\n",
       "       tqwt_kurtosisValue_dec_32  tqwt_kurtosisValue_dec_33  \\\n",
       "count                 756.000000                 756.000000   \n",
       "mean                   12.218953                  12.375335   \n",
       "std                    17.783642                  16.341665   \n",
       "min                     1.789500                   1.628700   \n",
       "25%                     2.937025                   3.114375   \n",
       "50%                     4.300450                   4.741450   \n",
       "75%                    10.876150                  12.201325   \n",
       "max                    85.571700                  73.532200   \n",
       "\n",
       "       tqwt_kurtosisValue_dec_34  tqwt_kurtosisValue_dec_35  \\\n",
       "count                 756.000000                 756.000000   \n",
       "mean                   14.799230                  14.751559   \n",
       "std                    15.722502                  14.432979   \n",
       "min                     1.861700                   1.955900   \n",
       "25%                     3.665925                   3.741275   \n",
       "50%                     6.725700                   7.334250   \n",
       "75%                    21.922050                  22.495175   \n",
       "max                    62.007300                  57.544300   \n",
       "\n",
       "       tqwt_kurtosisValue_dec_36       class  \n",
       "count                 756.000000  756.000000  \n",
       "mean                   31.481110    0.746032  \n",
       "std                    34.230991    0.435568  \n",
       "min                     2.364000    0.000000  \n",
       "25%                     3.948750    0.000000  \n",
       "50%                    10.637250    1.000000  \n",
       "75%                    61.125325    1.000000  \n",
       "max                   156.423700    1.000000  \n",
       "\n",
       "[8 rows x 755 columns]"
      ]
     },
     "execution_count": 11,
     "metadata": {},
     "output_type": "execute_result"
    }
   ],
   "source": [
    "df.describe()"
   ]
  },
  {
   "cell_type": "markdown",
   "id": "b40bc77b-ce0a-4ac1-b733-587ae780cc9d",
   "metadata": {},
   "source": [
    "<h1>Data Cleaning</h1>\n",
    "<p>The data which is obtained from the primary sources is termed the raw data and required a lot of preprocessing before we can derive any conclusions from it or to some modeling on it. <br> Those preprocessing steps are known as data cleaning and it includes, outliers removal, null value imputation, and removing discrepancies of any sort in the data inputs.</p>"
   ]
  },
  {
   "cell_type": "code",
   "execution_count": 13,
   "id": "814b1042-3fc2-490b-acf8-e4e6f92b2bb3",
   "metadata": {},
   "outputs": [],
   "source": [
    "df = df.groupby('id').mean().reset_index()\n",
    "df.drop('id', axis=1, inplace=True)"
   ]
  },
  {
   "cell_type": "markdown",
   "id": "76853815-d78b-4265-bef5-cce18e245c11",
   "metadata": {},
   "source": [
    "<h4> Code Breakdown</h4>\n",
    "<p>df.groupby('id').mean()<br>\n",
    "Groups the dataset by the 'id' column.\n",
    "<br>\n",
    "Computes the mean for all other numerical columns within each group.\n",
    "<br>\n",
    "This is useful when multiple rows exist for the same id, and you want a single representative row per id.\n",
    "<hr>\n",
    ".reset_index()\n",
    "<br>\n",
    "Converts the grouped result back into a DataFrame (instead of a grouped object).\n",
    "<hr>\n",
    "df.drop('id', axis=1, inplace=True)\n",
    "<br>\n",
    "Removes the 'id' column after aggregation, as it is no longer needed.\n",
    "<br>\n",
    "</p>\n",
    "<P>Uses of Above Code Block</P>\n",
    "<p>Improves model training<br>\n",
    " Removes redundancy<br>\n",
    "Handles duplicate entries</p>\n"
   ]
  },
  {
   "cell_type": "markdown",
   "id": "972f8300-7019-4953-a811-ff6587a2ac85",
   "metadata": {},
   "source": [
    "<p>These many features only indicate that they have been derived from one another or we can say that the correlation between them is quite high.<br> In the below code block a function has been implemented which can remove the highly correlated features except for the target column.</p>"
   ]
  },
  {
   "cell_type": "code",
   "execution_count": 16,
   "id": "2a7e3418-de5a-43ec-85ea-a5e8083ab4cd",
   "metadata": {},
   "outputs": [
    {
     "data": {
      "text/plain": [
       "(252, 287)"
      ]
     },
     "execution_count": 16,
     "metadata": {},
     "output_type": "execute_result"
    }
   ],
   "source": [
    "columns = list(df.columns)\n",
    "for col in columns:\n",
    "\tif col == 'class':\n",
    "\t\tcontinue\n",
    "\n",
    "\tfiltered_columns = [col]\n",
    "\tfor col1 in df.columns:\n",
    "\t\tif((col == col1) | (col == 'class')):\n",
    "\t\t\tcontinue\n",
    "\n",
    "\t\tval = df[col].corr(df[col1])\n",
    "\n",
    "\t\tif val > 0.7:\n",
    "\t\t\t# If the correlation between the two features is more than 0.7 remove\n",
    "\t\t\tcolumns.remove(col1)\n",
    "\t\t\tcontinue\n",
    "\t\telse:\n",
    "\t\t\tfiltered_columns.append(col1)\n",
    "\n",
    "\t# After each iteration filter out the columns which are not highly correlated features.\n",
    "\tdf = df[filtered_columns]\n",
    "df.shape"
   ]
  },
  {
   "cell_type": "markdown",
   "id": "e35fdfb6-5f95-46b1-956a-30f126361820",
   "metadata": {},
   "source": [
    "<p>So, from a feature space of 755 columns, we have reduced it to a feature space of 287 columns. But still, it is too high as the number of features is still more than the number of examples or data points. Reason behind this statement is the same as that behind the curse of dimensionality problem as the feature space grows the number of examples required to generalize on the dataset becomes difficult and the model’s performance decreases.\n",
    "</p>\n",
    "<p>So, let’s reduce the feature space up to 30 by using the <strong>chi-square test</strong>.</p>"
   ]
  },
  {
   "cell_type": "markdown",
   "id": "3fc2f95c-a9ac-47fa-b401-42cd7bcea2c1",
   "metadata": {},
   "source": [
    "<p><strong>Chi-Square test</strong> is done on two distributions two determine the level of similarity of their respective variances. In its null hypothesis, it assumes that the given distributions are independent. This test thus can be used to determine the best features for a given dataset by determining the features on which the output class label is most dependent.</p>"
   ]
  },
  {
   "cell_type": "code",
   "execution_count": 19,
   "id": "21c3c858-f257-40e9-82fe-84590c8263c9",
   "metadata": {},
   "outputs": [
    {
     "data": {
      "text/plain": [
       "(252, 31)"
      ]
     },
     "execution_count": 19,
     "metadata": {},
     "output_type": "execute_result"
    }
   ],
   "source": [
    "X = df.drop('class', axis=1)\n",
    "X_norm = MinMaxScaler().fit_transform(X)\n",
    "selector = SelectKBest(chi2, k=30)\n",
    "selector.fit(X_norm, df['class'])\n",
    "filtered_columns = selector.get_support()\n",
    "filtered_data = X.loc[:, filtered_columns]\n",
    "filtered_data['class'] = df['class']\n",
    "df = filtered_data\n",
    "df.shape"
   ]
  },
  {
   "cell_type": "markdown",
   "id": "9a902ff8-ca8a-4424-b76d-d5ee4ecde1d5",
   "metadata": {},
   "source": [
    "<p>As the dimensionality of the dataset is under control now let’s check whether the dataset is balanced for both the classes or not.</p>"
   ]
  },
  {
   "cell_type": "code",
   "execution_count": 21,
   "id": "200215e7-97af-47b8-9a73-2dc8aff02935",
   "metadata": {
    "scrolled": true
   },
   "outputs": [
    {
     "data": {
      "image/png": "[encoded data removed]",
      "text/plain": [
       "<Figure size 640x480 with 1 Axes>"
      ]
     },
     "metadata": {},
     "output_type": "display_data"
    }
   ],
   "source": [
    "x = df['class'].value_counts()\n",
    "plt.pie(x.values,\n",
    "\t\tlabels = x.index,\n",
    "\t\tautopct='%1.1f%%')\n",
    "plt.show()"
   ]
  },
  {
   "cell_type": "markdown",
   "id": "dfe4ab59-2907-4b29-af8c-46357376de62",
   "metadata": {},
   "source": [
    "<p>The dataset is Imbalance. We will have to deal with this problem otherwise the model trained on this dataset will have a harder time predicting positive classes which is our main objective here.</p>"
   ]
  },
  {
   "cell_type": "markdown",
   "id": "7343f611-7db9-4b0b-81f9-a0372d17b448",
   "metadata": {},
   "source": [
    "<h2>Model Training</h2>\n",
    "<p>Now we will separate the features and target variables and split them into training and the testing data by using which we will select the model which is performing best on the validation data.</p>"
   ]
  },
  {
   "cell_type": "code",
   "execution_count": 24,
   "id": "f1a313bf-39f0-4460-8abb-1f5320796aed",
   "metadata": {},
   "outputs": [
    {
     "data": {
      "text/plain": [
       "((201, 30), (51, 30))"
      ]
     },
     "execution_count": 24,
     "metadata": {},
     "output_type": "execute_result"
    }
   ],
   "source": [
    "features = df.drop('class', axis=1)\n",
    "target = df['class']\n",
    "\n",
    "X_train, X_val,\\\n",
    "\tY_train, Y_val = train_test_split(features, target,\n",
    "\t\t\t\t\t\t\t\t\ttest_size=0.2,\n",
    "\t\t\t\t\t\t\t\t\trandom_state=10)\n",
    "X_train.shape, X_val.shape"
   ]
  },
  {
   "cell_type": "markdown",
   "id": "98c4da9e-9fd0-4acf-a95c-56f0c6179169",
   "metadata": {},
   "source": [
    "<h3>Random Oversampling</h3>\n",
    "<p><strong>Handling the data imbalance problem</strong> by using the over-sampling method on the minority class.</p>\n",
    "<p> It balances the dataset by randomly duplicating rows from the minority class.</p>\n",
    "<p>Useful when you have a small dataset and want to increase the representation of the minority class.</p>"
   ]
  },
  {
   "cell_type": "code",
   "execution_count": 26,
   "id": "71c24ddc-bfdb-4b7f-8bda-afcf149d1143",
   "metadata": {},
   "outputs": [
    {
     "data": {
      "text/plain": [
       "((302, 30), (302,))"
      ]
     },
     "execution_count": 26,
     "metadata": {},
     "output_type": "execute_result"
    }
   ],
   "source": [
    "# As the data was highly imbalanced we will balance it by adding repetitive rows of minority class.\n",
    "ros = RandomOverSampler(sampling_strategy='minority',\n",
    "\t\t\t\t\t\trandom_state=0)\n",
    "X, Y = ros.fit_resample(X_train, Y_train)\n",
    "X.shape, Y.shape"
   ]
  },
  {
   "cell_type": "markdown",
   "id": "485704e0-d31f-4b72-9d7d-0eb579cdb66d",
   "metadata": {},
   "source": [
    "<p>The dataset has been already normalized in the data cleaning step we can directly train some state-of-the-art machine learning models and compare them which fit better with our data.</p>"
   ]
  },
  {
   "cell_type": "code",
   "execution_count": 28,
   "id": "c85dd13f-6919-461a-85b9-f89fdc6f3dfe",
   "metadata": {},
   "outputs": [
    {
     "name": "stdout",
     "output_type": "stream",
     "text": [
      "LogisticRegression() : \n",
      "Training Accuracy :  0.8284724354194991\n",
      "Validation Accuracy :  0.8146718146718146\n",
      "\n",
      "XGBClassifier(base_score=None, booster=None, callbacks=None,\n",
      "              colsample_bylevel=None, colsample_bynode=None,\n",
      "              colsample_bytree=None, device=None, early_stopping_rounds=None,\n",
      "              enable_categorical=False, eval_metric=None, feature_types=None,\n",
      "              feature_weights=None, gamma=None, grow_policy=None,\n",
      "              importance_type=None, interaction_constraints=None,\n",
      "              learning_rate=None, max_bin=None, max_cat_threshold=None,\n",
      "              max_cat_to_onehot=None, max_delta_step=None, max_depth=None,\n",
      "              max_leaves=None, min_child_weight=None, missing=nan,\n",
      "              monotone_constraints=None, multi_strategy=None, n_estimators=None,\n",
      "              n_jobs=None, num_parallel_tree=None, ...) : \n",
      "Training Accuracy :  0.9999999999999999\n",
      "Validation Accuracy :  0.7857142857142857\n",
      "\n",
      "RandomForestClassifier(random_state=10) : \n",
      "Training Accuracy :  1.0\n",
      "Validation Accuracy :  0.8127413127413128\n",
      "\n",
      "SVC(probability=True) : \n",
      "Training Accuracy :  0.7104512959957897\n",
      "Validation Accuracy :  0.7586872586872587\n",
      "\n"
     ]
    }
   ],
   "source": [
    "from sklearn.metrics import roc_auc_score as ras\n",
    "models = [LogisticRegression(), XGBClassifier(),RandomForestClassifier(n_estimators=100, random_state=10), SVC(kernel='rbf', probability=True)]\n",
    "\n",
    "for i in range(len(models)):\n",
    "\tmodels[i].fit(X, Y)\n",
    "\n",
    "\tprint(f'{models[i]} : ')\n",
    "\n",
    "\ttrain_preds = models[i].predict_proba(X)[:, 1]\n",
    "\tprint('Training Accuracy : ', ras(Y, train_preds))\n",
    "\n",
    "\tval_preds = models[i].predict_proba(X_val)[:, 1]\n",
    "\tprint('Validation Accuracy : ', ras(Y_val, val_preds))\n",
    "\tprint()"
   ]
  },
  {
   "cell_type": "markdown",
   "id": "f581eb6c-0834-4fb9-bdcf-2c921a9aaba5",
   "metadata": {},
   "source": [
    "<h2>Model Evaluation</h2>\n",
    "<p>From the above accuracies, we can say that Logistic Regression and SVC() classifier perform better on the validation data with less difference between the validation and training data. Let’s plot the confusion matrix as well for the validation data using the Logistic Regression model.</p>"
   ]
  },
  {
   "cell_type": "markdown",
   "id": "eb80f89a-62c2-4ce8-ad33-f40094ea1f20",
   "metadata": {},
   "source": [
    "<h4>From the Above Models used, Logistic Regression gives the best model</h4>"
   ]
  },
  {
   "cell_type": "code",
   "execution_count": 31,
   "id": "1d3b6432-414f-4699-aa12-74af06d12d6c",
   "metadata": {},
   "outputs": [
    {
     "data": {
      "image/png": "[encoded data removed]",
      "text/plain": [
       "<Figure size 640x480 with 2 Axes>"
      ]
     },
     "metadata": {},
     "output_type": "display_data"
    }
   ],
   "source": [
    "from sklearn.metrics import ConfusionMatrixDisplay\n",
    "\n",
    "ConfusionMatrixDisplay.from_estimator(models[0], X_val, Y_val)\n",
    "plt.show()"
   ]
  },
  {
   "cell_type": "code",
   "execution_count": 32,
   "id": "a88b66db-c600-412e-90d0-20848802b2c6",
   "metadata": {},
   "outputs": [
    {
     "name": "stdout",
     "output_type": "stream",
     "text": [
      "              precision    recall  f1-score   support\n",
      "\n",
      "         0.0       0.83      0.71      0.77        14\n",
      "         1.0       0.90      0.95      0.92        37\n",
      "\n",
      "    accuracy                           0.88        51\n",
      "   macro avg       0.87      0.83      0.85        51\n",
      "weighted avg       0.88      0.88      0.88        51\n",
      "\n"
     ]
    }
   ],
   "source": [
    "print(metrics.classification_report\n",
    "\t(Y_val, models[0].predict(X_val)))"
   ]
  },
  {
   "cell_type": "code",
   "execution_count": null,
   "id": "ac14f18c-cac1-46e3-ab06-f358dfc418a6",
   "metadata": {},
   "outputs": [],
   "source": []
  },
  {
   "cell_type": "code",
   "execution_count": null,
   "id": "453a6028-7b3e-4e57-a92c-1d5ba0544210",
   "metadata": {},
   "outputs": [],
   "source": []
  }
 ],
 "metadata": {
  "kernelspec": {
   "display_name": "Python [conda env:base] *",
   "language": "python",
   "name": "conda-base-py"
  },
  "language_info": {
   "codemirror_mode": {
    "name": "ipython",
    "version": 3
   },
   "file_extension": ".py",
   "mimetype": "text/x-python",
   "name": "python",
   "nbconvert_exporter": "python",
   "pygments_lexer": "ipython3",
   "version": "3.12.7"
  }
 },
 "nbformat": 4,
 "nbformat_minor": 5
}
